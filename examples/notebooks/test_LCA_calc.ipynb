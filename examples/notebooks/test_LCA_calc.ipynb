{
 "cells": [
  {
   "cell_type": "code",
   "execution_count": 1,
   "metadata": {},
   "outputs": [],
   "source": [
    "import bw2data\n",
    "import bw2calc\n",
    "import bw2extdb\n",
    "import pandas as pd"
   ]
  },
  {
   "cell_type": "markdown",
   "metadata": {},
   "source": [
    "Calculate the LCA for the original data"
   ]
  },
  {
   "cell_type": "code",
   "execution_count": 2,
   "metadata": {},
   "outputs": [],
   "source": [
    "bw2data.projects.set_current('bw2extdb_test')"
   ]
  },
  {
   "cell_type": "code",
   "execution_count": 3,
   "metadata": {},
   "outputs": [
    {
     "data": {
      "text/plain": [
       "'/Users/hausslingbhl/Library/Application Support/Brightway3/bw2extdb_test.4f8878c2c9dc53c512b49068bda678d5'"
      ]
     },
     "execution_count": 3,
     "metadata": {},
     "output_type": "execute_result"
    }
   ],
   "source": [
    "bw2data.projects.dir"
   ]
  },
  {
   "cell_type": "code",
   "execution_count": 3,
   "metadata": {},
   "outputs": [],
   "source": [
    "# ipcc = bw2data.Method((\"IPCC\", \"simple\"))\n",
    "# ipcc.register()\n",
    "# ipcc.write([((\"Mobility example\", \"CO2\"), 1)])"
   ]
  },
  {
   "cell_type": "code",
   "execution_count": 4,
   "metadata": {},
   "outputs": [
    {
     "data": {
      "text/plain": [
       "0.18248161259647167"
      ]
     },
     "execution_count": 4,
     "metadata": {},
     "output_type": "execute_result"
    }
   ],
   "source": [
    "bw2extdb_test_LCA = bw2calc.LCA({(\"Mobility example\", \"Driving an electric car\"): 1}, (\"IPCC\", \"simple\"))\n",
    "\n",
    "bw2extdb_test_LCA.lci()    # Builds matrices, solves the system, generates an LCI matrix.\n",
    "bw2extdb_test_LCA.lcia()   # Characterization, i.e. the multiplication of the elements \n",
    "                          # of the LCI matrix with characterization factors from the chosen method\n",
    "bw2extdb_test_LCA.score "
   ]
  },
  {
   "cell_type": "markdown",
   "metadata": {},
   "source": [
    "calculate the LCA for the imported data"
   ]
  },
  {
   "cell_type": "code",
   "execution_count": 5,
   "metadata": {},
   "outputs": [],
   "source": [
    "bw2data.projects.set_current('import_test')"
   ]
  },
  {
   "cell_type": "code",
   "execution_count": 21,
   "metadata": {},
   "outputs": [],
   "source": [
    "ipcc = bw2data.Method((\"IPCC\", \"simple\"))\n",
    "ipcc.register()\n",
    "ipcc.write([((\"test exporting using Mobility example\", \"Mobility exampleCO2\"), 1)])"
   ]
  },
  {
   "cell_type": "code",
   "execution_count": 22,
   "metadata": {},
   "outputs": [
    {
     "data": {
      "text/plain": [
       "0.18248161259647164"
      ]
     },
     "execution_count": 22,
     "metadata": {},
     "output_type": "execute_result"
    }
   ],
   "source": [
    "import_test_LCA = bw2calc.LCA({(\"test exporting using Mobility example\", \"Mobility exampleDriving an electric car\"): 1}, (\"IPCC\", \"simple\"))\n",
    "\n",
    "import_test_LCA.lci()    # Builds matrices, solves the system, generates an LCI matrix.\n",
    "import_test_LCA.lcia()   # Characterization, i.e. the multiplication of the elements \n",
    "                          # of the LCI matrix with characterization factors from the chosen method\n",
    "import_test_LCA.score "
   ]
  }
 ],
 "metadata": {
  "kernelspec": {
   "display_name": "bw2extdb_version4",
   "language": "python",
   "name": "python3"
  },
  "language_info": {
   "codemirror_mode": {
    "name": "ipython",
    "version": 3
   },
   "file_extension": ".py",
   "mimetype": "text/x-python",
   "name": "python",
   "nbconvert_exporter": "python",
   "pygments_lexer": "ipython3",
   "version": "3.11.5"
  },
  "orig_nbformat": 4
 },
 "nbformat": 4,
 "nbformat_minor": 2
}
